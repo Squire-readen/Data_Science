{
  "metadata": {
    "kernelspec": {
      "display_name": "Python (Pyodide)",
      "language": "python",
      "name": "python"
    },
    "language_info": {
      "codemirror_mode": {
        "name": "python",
        "version": 3
      },
      "file_extension": ".py",
      "mimetype": "text/x-python",
      "name": "python",
      "nbconvert_exporter": "python",
      "pygments_lexer": "ipython3",
      "version": "3.8"
    }
  },
  "nbformat_minor": 5,
  "nbformat": 4,
  "cells": [
    {
      "id": "aa63fa57-61b5-4eb1-b228-611909e8ba68",
      "cell_type": "markdown",
      "source": "# Data Science Notebook\n\n",
      "metadata": {}
    },
    {
      "id": "eec0c046-00d5-4d71-9f03-2b921d7daa2a",
      "cell_type": "markdown",
      "source": "## Introduction\nThis notebook provides an overview of data science languages, libraries, and tools, along with examples of arithmetic expressions and conversions.\n",
      "metadata": {}
    },
    {
      "id": "9987198b-a2de-4cd1-8010-99f1f53b70da",
      "cell_type": "markdown",
      "source": "## Data Science Languages\n- Python\n- R\n- SQL\n- Julia\n- Java\n",
      "metadata": {}
    },
    {
      "id": "7f0392e0-2cb7-4c4b-be2e-da5d94bc40c1",
      "cell_type": "markdown",
      "source": "## Data Science Libraries\n- NumPy\n- Pandas\n- Matplotlib\n- Scikit-learn\n- TensorFlow\n",
      "metadata": {}
    },
    {
      "id": "5654b6ac-f8b2-4c6c-89d0-4e4997539636",
      "cell_type": "markdown",
      "source": "## Data Science Tools\n\n| Tool         | Description                           |\n|--------------|---------------------------------------|\n| Jupyter      | Open-source web application for notebooks |\n| GitHub       | Version control and collaboration platform |\n| RStudio      | Integrated development environment for R |\n| Anaconda     | Package manager and environment management system |\n| Tableau      | Data visualization software           |\n",
      "metadata": {}
    },
    {
      "id": "aa68e9d7-2ac4-4652-b065-4dec3ad633dc",
      "cell_type": "markdown",
      "source": "## Arithmetic Expression Examples\nIn this section, we will demonstrate basic arithmetic operations.\n",
      "metadata": {}
    },
    {
      "id": "61429854-d91d-4d2f-95f7-20ddbfc27c85",
      "cell_type": "code",
      "source": "# Example of multiplying and adding numbers\na = 5\nb = 10\nproduct = a * b\nsum_result = a + b\n\nproduct, sum_result\n",
      "metadata": {
        "trusted": true
      },
      "outputs": [
        {
          "execution_count": 2,
          "output_type": "execute_result",
          "data": {
            "text/plain": "(50, 15)"
          },
          "metadata": {}
        }
      ],
      "execution_count": 2
    },
    {
      "id": "2ea7d182-d906-472a-8396-3f141439f5c0",
      "cell_type": "code",
      "source": "# Convert minutes to hours\ndef convert_minutes_to_hours(minutes):\n    hours = minutes / 60\n    return hours\n\nconvert_minutes_to_hours(120)  # Example: Convert 120 minutes to hours\n",
      "metadata": {
        "trusted": true
      },
      "outputs": [
        {
          "execution_count": 3,
          "output_type": "execute_result",
          "data": {
            "text/plain": "2.0"
          },
          "metadata": {}
        }
      ],
      "execution_count": 3
    },
    {
      "id": "5d7aa169-7e7b-4e59-bc59-fbf1748b7a3d",
      "cell_type": "markdown",
      "source": "## Objectives\n- To understand various data science languages and libraries.\n- To learn about tools used in data science.\n- To practice basic arithmetic operations in Python.\n- To convert time units using Python functions.\n",
      "metadata": {}
    },
    {
      "id": "d521e2ac-d042-4779-be0c-8aac65acd920",
      "cell_type": "markdown",
      "source": "## Author\nRidwan Adedamola Adeniyi\n",
      "metadata": {}
    },
    {
      "id": "6bb2ecef-8a3d-43bf-bd31-87ebddab84a7",
      "cell_type": "code",
      "source": "",
      "metadata": {
        "trusted": true
      },
      "outputs": [],
      "execution_count": null
    }
  ]
}